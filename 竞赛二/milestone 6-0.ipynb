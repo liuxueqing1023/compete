{
 "cells": [
  {
   "cell_type": "markdown",
   "metadata": {},
   "source": [
    "# milestone 6 \n",
    "update：使用lightgbm"
   ]
  },
  {
   "cell_type": "code",
   "execution_count": 30,
   "metadata": {},
   "outputs": [],
   "source": [
    "import pandas as pd\n",
    "import matplotlib.pyplot as plt\n",
    "import seaborn as sns\n",
    "import numpy as np\n",
    "\n",
    "from sklearn import preprocessing\n",
    "from sklearn.utils import shuffle\n",
    "\n",
    "%matplotlib inline"
   ]
  },
  {
   "cell_type": "markdown",
   "metadata": {},
   "source": [
    "# 导入数据"
   ]
  },
  {
   "cell_type": "code",
   "execution_count": 31,
   "metadata": {},
   "outputs": [],
   "source": [
    "#使用pandas读入数据\n",
    "user_cols = ['age','workclass','fnlwgt','education','education_num','marital_status','occupation','relationship','race','sex','capital_gain','capital_loss','hours_per_week','native_country','y']\n",
    "data = pd.read_table(\"../datasets/train-data.txt\",sep=\",\",header=None,names = user_cols,engine='python',skipinitialspace=True)\n"
   ]
  },
  {
   "cell_type": "markdown",
   "metadata": {},
   "source": [
    "# 特征编码"
   ]
  },
  {
   "cell_type": "code",
   "execution_count": 32,
   "metadata": {},
   "outputs": [],
   "source": [
    "## workclass\n",
    "# data['workclass'] = data['workclass'].map({'Private':5,'Self-emp-not-inc':4,'Self-emp-inc':0,'Federal-gov':1,'Local-gov':2,'State-gov':3,'Without-pay':6,'Never-worked':7,'?':np.nan})\n",
    "\n",
    "data['workclass'] = data['workclass'].map({'Private':np.int64(5),'Self-emp-not-inc':np.int64(4),'Self-emp-inc':np.int64(0),'Federal-gov':np.int64(1),'Local-gov':np.int64(2),'State-gov':np.int64(3),'Without-pay':np.int64(6),'Never-worked':np.int64(7),'?':np.nan})\n",
    "\n",
    "# Private    5\n",
    "# Self-emp-not-inc   4\n",
    "# Self-emp-inc   0\n",
    "# Federal-gov  1\n",
    "# Local-gov  2\n",
    "# State-gov  3tp\n",
    "# Without-pay  6\n",
    "# Never-worked  7\n",
    "# ?  nan\n",
    "\n",
    "\n",
    "## education\n",
    "data['education'] = data['education'].map({'Bachelors':2,'Some-college':3,'11th':9,'HS-grad':6,'Prof-school':7,'Assoc-acdm':4,'Assoc-voc':5,\n",
    "                                           '9th':11,'7th-8th':12,'12th':8,'Masters':1,'1st-4th':14,'10th':10,'Doctorate':0,'5th-6th':13,'Preschool':15})\n",
    "\n",
    "# Bachelors   2\n",
    "# Some-college  3\n",
    "# 11th       9\n",
    "# HS-grad      6\n",
    "# Prof-school  7\n",
    "# Assoc-acdm    4\n",
    "# Assoc-voc     5\n",
    "# 9th         11\n",
    "# 7th-8th     12\n",
    "# 12th         8\n",
    "# Masters      1\n",
    "# 1st-4th      14\n",
    "# 10th      10\n",
    "# Doctorate    0\n",
    "# 5th-6th  13\n",
    "# Preschool  15\n",
    "\n",
    "\n",
    "## marital_status\n",
    "data['marital_status'] = data['marital_status'].map({'Married-civ-spouse':0,'Divorced':1,'Never-married':2,'Separated':3,'Widowed':4,'Married-spouse-absent':5,'Married-AF-spouse':6})\n",
    "\n",
    "\n",
    "## occupation\n",
    "data['occupation'] = data['occupation'].map({'Tech-support':0,'Craft-repair':1,'Other-service':2,'Sales':3,'Exec-managerial':4,'Prof-specialty':5,'Handlers-cleaners':6,'Machine-op-inspct':7,'Adm-clerical':8,'Farming-fishing':9,'Transport-moving':10,'Priv-house-serv':11,'Protective-serv':12,'Armed-Forces':13,'?':np.nan})\n",
    "\n",
    "## relationship\n",
    "data['relationship'] = data['relationship'].map({'Wife':0,'Own-child':1,'Husband':2,'Not-in-family':3,'Other-relative':4,'Unmarried':5})\n",
    "\n",
    "## race\n",
    "data['race'] = data['race'].map({'White':0,'Asian-Pac-Islander':1,'Amer-Indian-Eskimo':2,'Other':3,'Black':4})\n",
    "\n",
    "## sex\n",
    "data['sex'] = data['sex'].map({'Female':0,'Male':1})\n",
    "\n",
    "## native_country\n",
    "data['native_country'] = data['native_country'].map({'United-States':0,'Cambodia':1,'England':2,'Puerto-Rico':3,'Canada':4,'Germany':5,'Outlying-US(Guam-USVI-etc)':6,'India':7,'Japan':8,'Greece':9,'South':10,'China':11,'Cuba':12,'Iran':13,'Honduras':14,'Philippines':15,'Italy':16,'Poland':17,'Jamaica':18,'Vietnam':19,'Mexico':20,'Portugal':21,'Ireland':22,'France':23,'Dominican-Republic':24,'Laos':25,'Ecuador':26,'Taiwan':27,'Haiti':28,'Columbia':29,'Hungary':30,'Guatemala':31,'Nicaragua':32,'Scotland':33,'Thailand':34,'Yugoslavia':35,'El-Salvador':36,'Trinadad&Tobago':37,'Peru':38,'Hong':39,'Holand-Netherlands':40,'?':np.nan})\n",
    "\n",
    "## y\n",
    "data['y'] = data['y'].map({'<=50K':0,'>50K':1})\n"
   ]
  },
  {
   "cell_type": "markdown",
   "metadata": {},
   "source": [
    "# 数据整理"
   ]
  },
  {
   "cell_type": "code",
   "execution_count": 33,
   "metadata": {},
   "outputs": [],
   "source": [
    "# 清除含有空值的行\n",
    "data = data.dropna() \n",
    "\n",
    "# 清除无关的行\n",
    "data = data.drop(['education'],axis=1)\n",
    "data = data.reset_index(drop = True)  # 删除原索引并建立新索引\n",
    "\n",
    "\n",
    "# # # update 清除异常数据\n",
    "# data = data[(data['capital_gain']<=20000)&(data['fnlwgt']<=800000)&(data['capital_loss']<=1000)]\n",
    "\n",
    "\n",
    "# 将workclass和occupation数据类型改为int64\n",
    "data['workclass'] = data['workclass'].astype('int64')\n",
    "data['occupation'] = data['occupation'].astype('int64')\n",
    "data['native_country'] = data['native_country'].astype('int64')\n",
    "\n",
    "# 随机打散数据\n",
    "data = shuffle(data,random_state=10)\n",
    "data = data.reset_index(drop = True)  # 删除原索引并建立新索引\n"
   ]
  },
  {
   "cell_type": "code",
   "execution_count": 34,
   "metadata": {},
   "outputs": [],
   "source": [
    "# 分离数据集标签\n",
    "\n",
    "data_result = data['y']\n",
    "# data_result = data_result.reshape(-1)\n",
    "data = data.drop(['y'], axis=1)\n"
   ]
  },
  {
   "cell_type": "code",
   "execution_count": 35,
   "metadata": {},
   "outputs": [],
   "source": [
    "# 划分单独测试集\n",
    "from sklearn.cross_validation import train_test_split\n",
    "X_train, X_test, y_train, y_test = train_test_split(data,data_result,test_size=0.1,random_state=3) "
   ]
  },
  {
   "cell_type": "code",
   "execution_count": 36,
   "metadata": {},
   "outputs": [],
   "source": [
    "# # 数据标准化\n",
    "# scaler = preprocessing.StandardScaler()\n",
    "# X_train = pd.DataFrame(scaler.fit_transform(X_train), columns=X_train.columns)\n",
    "# X_test = pd.DataFrame(scaler.fit_transform(X_test), columns=X_test.columns)"
   ]
  },
  {
   "cell_type": "code",
   "execution_count": 44,
   "metadata": {
    "scrolled": 'true'
   },
   "outputs": [],
   "source": [
    "# # update: 对于不平衡样本进行处理\n",
    "# from imblearn.over_sampling import ADASYN \n",
    "\n",
    "# ada = ADASYN(random_state=42)\n",
    "# X_train, y_train = ada.fit_sample(X_train, y_train)\n",
    "\n",
    "# # 过采样方法\n",
    "# from imblearn.over_sampling import RandomOverSampler,SMOTE,ADASYN \n",
    "\n",
    "# RandomOverSampler 有效，f1 = 0.7012875536480685\n",
    "ros = RandomOverSampler(random_state=0)\n",
    "X_train,y_train = ros.fit_sample(X_train,y_train)\n",
    "\n",
    "X_train = pd.DataFrame(X_train)\n",
    "X_train.columns = ['age','workclass','fnlwgt','education_num','marital_status','occupation','relationship','race','sex','capital_gain','capital_loss','hours_per_week','native_country']"
   ]
  },
  {
   "cell_type": "markdown",
   "metadata": {},
   "source": [
    "# 模型使用"
   ]
  },
  {
   "cell_type": "code",
   "execution_count": 45,
   "metadata": {},
   "outputs": [],
   "source": [
    "import lightgbm as lgb   # application='binary',objective='binary',is_unbalance=True,num_leaves=100,colsample_bytree=0.8,reg_alpha=0.001 reg_lambda=0.06 0.741822429906542\n",
    "categorical_features=['workclass','marital_status','occupation','relationship','race','sex','native_country']\n",
    "\n",
    "\n",
    "clf = lgb.LGBMClassifier(application='binary',objective='binary',is_unbalance=True,num_leaves=100,colsample_bytree=0.8,reg_alpha=0.001,reg_lambda=0.06)\n"
   ]
  },
  {
   "cell_type": "code",
   "execution_count": 46,
   "metadata": {
    "scrolled": 'true'
   },
   "outputs": [
    {
     "name": "stderr",
     "output_type": "stream",
     "text": [
      "/Library/Frameworks/Python.framework/Versions/3.6/lib/python3.6/site-packages/lightgbm/basic.py:1161: UserWarning: categorical_feature in Dataset is overridden. New categorical_feature is ['marital_status', 'native_country', 'occupation', 'race', 'relationship', 'sex', 'workclass']\n",
      "  warnings.warn('categorical_feature in Dataset is overridden. New categorical_feature is {}'.format(sorted(list(categorical_feature))))\n"
     ]
    },
    {
     "name": "stdout",
     "output_type": "stream",
     "text": [
      "0.741822429906542\n"
     ]
    },
    {
     "name": "stderr",
     "output_type": "stream",
     "text": [
      "/Library/Frameworks/Python.framework/Versions/3.6/lib/python3.6/site-packages/sklearn/preprocessing/label.py:151: DeprecationWarning: The truth value of an empty array is ambiguous. Returning False, but in future this will result in an error. Use `array.size > 0` to check that an array is not empty.\n",
      "  if diff:\n"
     ]
    }
   ],
   "source": [
    "# # 交叉验证\n",
    "# from sklearn.cross_validation import train_test_split\n",
    "# from sklearn.cross_validation import cross_val_score\n",
    "# print('5-cv result:')\n",
    "# scores = cross_val_score(clf,X_train,y_train,cv=5,scoring = 'f1')\n",
    "# for i,item in enumerate(scores):\n",
    "#     print('The F1-score in '+str(i+1)+' round is '+str(item))\n",
    "\n",
    "# sum = 0\n",
    "# for i,item in enumerate(scores):\n",
    "#     sum = sum+item\n",
    "# print(sum/scores.size)\n",
    "\n",
    "\n",
    "# 学习模型\n",
    "clf.fit(X_train,y_train,categorical_feature=categorical_features)\n",
    "y_pre = clf.predict(X_test)\n",
    "\n",
    "# 统计结果  \n",
    "from sklearn import metrics\n",
    "print(metrics.f1_score(y_test,y_pre))\n"
   ]
  },
  {
   "cell_type": "code",
   "execution_count": 'null',
   "metadata": {},
   "outputs": [],
   "source": [
    "# from sklearn.externals import joblib\n",
    "# joblib.dump(clf, \"train_model.m\")"
   ]
  },
  {
   "cell_type": "markdown",
   "metadata": {},
   "source": [
    "# 预测"
   ]
  },
  {
   "cell_type": "code",
   "execution_count": 'null',
   "metadata": {},
   "outputs": [],
   "source": [
    "# 导入测试集\n",
    "\n",
    "user_cols = ['age','workclass','fnlwgt','education','education_num','marital_status','occupation','relationship','race','sex','capital_gain','capital_loss','hours_per_week','native_country']\n",
    "testdata = pd.read_csv('../datasets/testx.csv',header=0,names=user_cols,sep=',',skipinitialspace=True)"
   ]
  },
  {
   "cell_type": "code",
   "execution_count": 'null',
   "metadata": {},
   "outputs": [],
   "source": [
    "testdata['workclass'] = testdata['workclass'].map({'Private':np.int64(5),'Self-emp-not-inc':np.int64(4),'Self-emp-inc':np.int64(0),'Federal-gov':np.int64(1),'Local-gov':np.int64(2),'State-gov':np.int64(3),'Without-pay':np.int64(6),'Never-worked':np.int64(7),'?':np.nan})\n",
    "\n",
    "## education\n",
    "testdata['education'] = testdata['education'].map({'Bachelors':2,'Some-college':3,'11th':9,'HS-grad':6,'Prof-school':7,'Assoc-acdm':4,'Assoc-voc':5,\n",
    "                                           '9th':11,'7th-8th':12,'12th':8,'Masters':1,'1st-4th':14,'10th':10,'Doctorate':0,'5th-6th':13,'Preschool':15})\n",
    "\n",
    "## marital_status\n",
    "testdata['marital_status'] = testdata['marital_status'].map({'Married-civ-spouse':0,'Divorced':1,'Never-married':2,'Separated':3,'Widowed':4,'Married-spouse-absent':5,'Married-AF-spouse':6})\n",
    "\n",
    "\n",
    "## occupation\n",
    "testdata['occupation'] = testdata['occupation'].map({'Tech-support':0,'Craft-repair':1,'Other-service':2,'Sales':3,'Exec-managerial':4,'Prof-specialty':5,'Handlers-cleaners':6,'Machine-op-inspct':7,'Adm-clerical':8,'Farming-fishing':9,'Transport-moving':10,'Priv-house-serv':11,'Protective-serv':12,'Armed-Forces':13,'?':np.nan})\n",
    "\n",
    "## relationship\n",
    "testdata['relationship'] = testdata['relationship'].map({'Wife':0,'Own-child':1,'Husband':2,'Not-in-family':3,'Other-relative':4,'Unmarried':5})\n",
    "\n",
    "## race\n",
    "testdata['race'] = testdata['race'].map({'White':0,'Asian-Pac-Islander':1,'Amer-Indian-Eskimo':2,'Other':3,'Black':4})\n",
    "\n",
    "## sex\n",
    "testdata['sex'] = testdata['sex'].map({'Female':0,'Male':1})\n",
    "\n",
    "## native_country\n",
    "testdata['native_country'] = testdata['native_country'].map({'United-States':0,'Cambodia':1,'England':2,'Puerto-Rico':3,'Canada':4,'Germany':5,'Outlying-US(Guam-USVI-etc)':6,'India':7,'Japan':8,'Greece':9,'South':10,'China':11,'Cuba':12,'Iran':13,'Honduras':14,'Philippines':15,'Italy':16,'Poland':17,'Jamaica':18,'Vietnam':19,'Mexico':20,'Portugal':21,'Ireland':22,'France':23,'Dominican-Republic':24,'Laos':25,'Ecuador':26,'Taiwan':27,'Haiti':28,'Columbia':29,'Hungary':30,'Guatemala':31,'Nicaragua':32,'Scotland':33,'Thailand':34,'Yugoslavia':35,'El-Salvador':36,'Trinadad&Tobago':37,'Peru':38,'Hong':39,'Holand-Netherlands':40,'?':np.nan})\n"
   ]
  },
  {
   "cell_type": "code",
   "execution_count": 'null',
   "metadata": {},
   "outputs": [],
   "source": [
    "# testdata.info()"
   ]
  },
  {
   "cell_type": "code",
   "execution_count": 'null',
   "metadata": {},
   "outputs": [],
   "source": [
    "#众数填充空缺值\n",
    "from scipy import stats\n",
    "import math \n",
    "\n",
    "workclass = testdata['workclass']\n",
    "argmax = stats.mode(workclass)[0][0]\n",
    "print(argmax)\n",
    "for i, element in enumerate(testdata['workclass'],start=0):\n",
    "    if math.isnan(testdata['workclass'][i])==True:\n",
    "        testdata['workclass'][i] = argmax\n",
    "        \n",
    "occupation  = testdata['occupation']\n",
    "argmax = stats.mode(occupation)[0][0]\n",
    "print(argmax)\n",
    "for i, element in enumerate(testdata['occupation'],start=0):\n",
    "    if math.isnan(testdata['occupation'][i])==True:\n",
    "        testdata['occupation'][i] = argmax\n",
    "\n",
    "native_country  = testdata['native_country']\n",
    "argmax = stats.mode(native_country)[0][0]\n",
    "print(argmax)\n",
    "for i, element in enumerate(testdata['native_country'],start=0):\n",
    "    if math.isnan(testdata['native_country'][i])==True:\n",
    "        testdata['native_country'][i] = argmax"
   ]
  },
  {
   "cell_type": "code",
   "execution_count": 'null',
   "metadata": {},
   "outputs": [],
   "source": [
    "# 将workclass和occupation数据类型改为int64\n",
    "testdata['workclass'] = testdata['workclass'].astype('int64')\n",
    "testdata['occupation'] = testdata['occupation'].astype('int64')\n",
    "testdata['native_country'] = testdata['native_country'].astype('int64')\n",
    "\n",
    "# # 删除一列\n",
    "# testdata = testdata.drop(['education'],axis=1)"
   ]
  },
  {
   "cell_type": "code",
   "execution_count": 'null',
   "metadata": {},
   "outputs": [],
   "source": []
  },
  {
   "cell_type": "code",
   "execution_count": 'null',
   "metadata": {},
   "outputs": [],
   "source": [
    "test_pre = clf.predict(testdata)\n",
    "test_pre = pd.DataFrame(test_pre,dtype='int64')\n",
    "test_pre.columns = ['y']\n",
    "\n",
    "# test_pre\n",
    "test_id = pd.DataFrame(np.arange(6000))\n",
    "test_id.columns = ['id']\n",
    "\n",
    "test_id['y'] = test_pre['y']\n",
    "test_id\n",
    "\n",
    "test_id.to_csv('test lightgbm.csv',index=0)"
   ]
  },
  {
   "cell_type": "code",
   "execution_count": 'null',
   "metadata": {},
   "outputs": [],
   "source": []
  },
  {
   "cell_type": "code",
   "execution_count": 'null',
   "metadata": {},
   "outputs": [],
   "source": []
  }
 ],
 "metadata": {
  "kernelspec": {
   "display_name": "Python 3",
   "language": "python",
   "name": "python3"
  },
  "language_info": {
   "codemirror_mode": {
    "name": "ipython",
    "version": 3
   },
   "file_extension": ".py",
   "mimetype": "text/x-python",
   "name": "python",
   "nbconvert_exporter": "python",
   "pygments_lexer": "ipython3",
   "version": "3.6.4"
  }
 },
 "nbformat": 4,
 "nbformat_minor": 2
}
